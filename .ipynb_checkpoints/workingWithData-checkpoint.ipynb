{
 "cells": [
  {
   "cell_type": "code",
   "execution_count": 1,
   "metadata": {},
   "outputs": [],
   "source": [
    "from mlmodel import *\n",
    "import numpy as np\n",
    "import pandas as pd\n",
    "import os\n",
    "from sklearn.svm import SVR\n",
    "# from sklearn import \n",
    "import matplotlib.pyplot as plt\n",
    "\n",
    "from runScripts import GetData\n",
    "# GetData()\n",
    "\n",
    "args = os.listdir(\"./Data/Formatted\")\n"
   ]
  },
  {
   "cell_type": "code",
   "execution_count": 2,
   "metadata": {},
   "outputs": [],
   "source": [
    "# for i in args:\n",
    "#     df = pd.read_csv(\"./Data/Formatted/\"+i)\n",
    "#     df.drop(columns=['Unnamed: 0'],inplace=True)\n",
    "#     print(df)\n",
    "\n"
   ]
  },
  {
   "cell_type": "code",
   "execution_count": 3,
   "metadata": {},
   "outputs": [],
   "source": [
    "# from datetime import datetime\n",
    "\n",
    "# a = datetime.strptime('2017-08-13',\"%Y-%m-%d\")\n"
   ]
  },
  {
   "cell_type": "code",
   "execution_count": 4,
   "metadata": {
    "scrolled": false
   },
   "outputs": [],
   "source": [
    "df = pd.read_csv(\"./Data/Formatted/\"+args[0])\n",
    "df.drop(columns=['Unnamed: 0'],inplace=True)\n",
    "myindex = df.columns\n"
   ]
  },
  {
   "cell_type": "code",
   "execution_count": 5,
   "metadata": {},
   "outputs": [],
   "source": [
    "X = df[['RSI',\"MFI\",'EMA','SO','MACD']]\n",
    "y = df['Diff']"
   ]
  },
  {
   "cell_type": "code",
   "execution_count": 6,
   "metadata": {},
   "outputs": [],
   "source": [
    "predictRange = 30\n",
    "X_train = np.array(X[:-predictRange])\n",
    "\n",
    "y_train = np.array(y[:-predictRange])\n",
    "X_test = np.array(X[-predictRange:])\n",
    "y_test = np.array(y[-predictRange:])"
   ]
  },
  {
   "cell_type": "code",
   "execution_count": 7,
   "metadata": {},
   "outputs": [],
   "source": [
    "cls = myClassifer()"
   ]
  },
  {
   "cell_type": "code",
   "execution_count": 8,
   "metadata": {},
   "outputs": [],
   "source": [
    "myTrain(cls,X_train,y_train)"
   ]
  },
  {
   "cell_type": "code",
   "execution_count": 9,
   "metadata": {},
   "outputs": [],
   "source": [
    "yPredicted = mypredict(cls,X_test)"
   ]
  },
  {
   "cell_type": "code",
   "execution_count": 10,
   "metadata": {},
   "outputs": [
    {
     "name": "stderr",
     "output_type": "stream",
     "text": [
      "c:\\program files (x86)\\python36-32\\lib\\site-packages\\ipykernel_launcher.py:3: SettingWithCopyWarning: \n",
      "A value is trying to be set on a copy of a slice from a DataFrame\n",
      "\n",
      "See the caveats in the documentation: http://pandas.pydata.org/pandas-docs/stable/indexing.html#indexing-view-versus-copy\n",
      "  This is separate from the ipykernel package so we can avoid doing imports until\n"
     ]
    }
   ],
   "source": [
    "Xfinal = X\n",
    "yfinal = y\n",
    "yfinal[-predictRange:] = yPredicted\n"
   ]
  },
  {
   "cell_type": "code",
   "execution_count": 11,
   "metadata": {
    "scrolled": true
   },
   "outputs": [],
   "source": [
    "acutalClose = [np.NAN]\n",
    "predictedClose = [np.NAN]\n",
    "pro = len(df)-predictRange\n",
    "for i in range(1,len(df)):\n",
    "    tempAcutal = df[myindex[-1]][i-1]+df['Diff'][i]\n",
    "    acutalClose.append(tempAcutal)\n",
    "    if(i>=pro):\n",
    "        tempPre = df[myindex[-1]][i-1]+yPredicted[i-pro]\n",
    "    else:\n",
    "        tempPre = df[myindex[-1]][i-1]+df['Diff'][i]\n",
    "    predictedClose.append(tempPre)\n",
    "    \n",
    "    \n"
   ]
  },
  {
   "cell_type": "code",
   "execution_count": 12,
   "metadata": {},
   "outputs": [
    {
     "data": {
      "text/plain": [
       "2732"
      ]
     },
     "execution_count": 12,
     "metadata": {},
     "output_type": "execute_result"
    }
   ],
   "source": [
    "len(predictedClose)"
   ]
  },
  {
   "cell_type": "code",
   "execution_count": 15,
   "metadata": {},
   "outputs": [
    {
     "data": {
      "text/plain": [
       "[<matplotlib.lines.Line2D at 0x14f07370>]"
      ]
     },
     "execution_count": 15,
     "metadata": {},
     "output_type": "execute_result"
    },
    {
     "data": {
      "image/png": "[encoded data removed]",
      "text/plain": [
       "<matplotlib.figure.Figure at 0x14f5af30>"
      ]
     },
     "metadata": {},
     "output_type": "display_data"
    }
   ],
   "source": [
    "plt.plot(df['Date'][-predictRange*2:], acutalClose[-predictRange*2:], color='navy', label='RBF model')\n",
    "plt.plot(df['Date'][-predictRange*2:], predictedClose[-predictRange*2:], color='darkorange',  label='Linear model')"
   ]
  },
  {
   "cell_type": "code",
   "execution_count": 16,
   "metadata": {},
   "outputs": [],
   "source": [
    "plt.show()"
   ]
  },
  {
   "cell_type": "code",
   "execution_count": 21,
   "metadata": {},
   "outputs": [
    {
     "name": "stdout",
     "output_type": "stream",
     "text": [
      "2722    0.241972\n",
      "2723    0.106077\n",
      "2724    0.081268\n",
      "2725    0.071228\n",
      "2726    0.308518\n",
      "2727    2.369193\n",
      "2728    4.829617\n",
      "2729   -1.141334\n",
      "2730   -0.002193\n",
      "2731   -0.048596\n",
      "Name: Diff, dtype: float64 [ 2.41972310e-01  1.06076780e-01  8.12684908e-02  7.12279136e-02\n",
      "  3.08518005e-01  2.36919261e+00  4.82961730e+00 -1.14133410e+00\n",
      " -2.19304160e-03 -4.85960416e-02]\n"
     ]
    }
   ],
   "source": [
    "print(df['Diff'][-predictRange:],yPredicted[-predictRange:])"
   ]
  },
  {
   "cell_type": "code",
   "execution_count": null,
   "metadata": {},
   "outputs": [],
   "source": []
  }
 ],
 "metadata": {
  "kernelspec": {
   "display_name": "Python 3",
   "language": "python",
   "name": "python3"
  },
  "language_info": {
   "codemirror_mode": {
    "name": "ipython",
    "version": 3
   },
   "file_extension": ".py",
   "mimetype": "text/x-python",
   "name": "python",
   "nbconvert_exporter": "python",
   "pygments_lexer": "ipython3",
   "version": "3.6.4"
  }
 },
 "nbformat": 4,
 "nbformat_minor": 2
}
